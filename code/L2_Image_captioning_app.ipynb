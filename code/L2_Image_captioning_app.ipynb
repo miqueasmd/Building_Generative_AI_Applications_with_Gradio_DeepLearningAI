{
 "cells": [
  {
   "cell_type": "markdown",
   "id": "adf933f7",
   "metadata": {},
   "source": [
    "# L2: Image captioning app 🖼️📝"
   ]
  },
  {
   "cell_type": "markdown",
   "id": "8b8996b4",
   "metadata": {},
   "source": [
    "Load your HF API key and relevant Python libraries"
   ]
  },
  {
   "cell_type": "code",
   "execution_count": 2,
   "id": "3471d1ed-41a0-473c-b3c7-99a9e14dffaf",
   "metadata": {
    "height": 149
   },
   "outputs": [],
   "source": [
    "import os\n",
    "import io\n",
    "import IPython.display\n",
    "from PIL import Image\n",
    "import base64 \n",
    "from dotenv import load_dotenv, find_dotenv\n",
    "_ = load_dotenv(find_dotenv()) # read local .env file\n",
    "hf_api_key = os.environ['HF_API_KEY']\n",
    "\n",
    "# Get the base project path and data path\n",
    "BASE_PATH = os.environ['BASE_PATH']\n",
    "DATA_PATH = os.path.join(BASE_PATH, \"data\")"
   ]
  },
  {
   "cell_type": "code",
   "execution_count": 3,
   "id": "05896028-3b43-408e-a899-109bde9625e5",
   "metadata": {
    "height": 302
   },
   "outputs": [],
   "source": [
    "# Helper functions\n",
    "import requests, json\n",
    "\n",
    "#Image-to-text endpoint\n",
    "def get_completion(image_url):\n",
    "    \"\"\"\n",
    "    Get image caption using HuggingFace's BLIP model\n",
    "    \"\"\"\n",
    "    headers = {\n",
    "        \"Authorization\": f\"Bearer {hf_api_key}\",\n",
    "        \"Content-Type\": \"application/json\"\n",
    "    }\n",
    "    \n",
    "    API_URL = \"https://api-inference.huggingface.co/models/Salesforce/blip-image-captioning-base\"\n",
    "    \n",
    "    # For URLs, we can send them directly\n",
    "    data = { \"inputs\": image_url }\n",
    "    \n",
    "    response = requests.post(API_URL, headers=headers, json=data)\n",
    "    return response.json()"
   ]
  },
  {
   "cell_type": "markdown",
   "id": "2541e21e",
   "metadata": {},
   "source": [
    "## Building an image captioning app "
   ]
  },
  {
   "cell_type": "markdown",
   "id": "f1ca462d",
   "metadata": {},
   "source": [
    "Here we'll be using an [Inference Endpoint](https://huggingface.co/inference-endpoints) for `Salesforce/blip-image-captioning-base` a 14M parameter captioning model."
   ]
  },
  {
   "cell_type": "markdown",
   "id": "b98cf3f7",
   "metadata": {},
   "source": [
    "The free images are available on: https://free-images.com/"
   ]
  },
  {
   "cell_type": "code",
   "execution_count": 4,
   "id": "eb7154b9-fa1c-416e-8ee2-635c27720539",
   "metadata": {
    "height": 64
   },
   "outputs": [
    {
     "data": {
      "text/html": [
       "<img src=\"https://free-images.com/sm/9596/dog_animal_greyhound_983023.jpg\"/>"
      ],
      "text/plain": [
       "<IPython.core.display.Image object>"
      ]
     },
     "metadata": {},
     "output_type": "display_data"
    },
    {
     "name": "stdout",
     "output_type": "stream",
     "text": [
      "[{'generated_text': 'a dog wearing a santa hat and a red scarf'}]\n"
     ]
    }
   ],
   "source": [
    "image_url = \"https://free-images.com/sm/9596/dog_animal_greyhound_983023.jpg\"\n",
    "display(IPython.display.Image(url=image_url))\n",
    "result = get_completion(image_url)\n",
    "print(result)"
   ]
  },
  {
   "cell_type": "markdown",
   "id": "90da616d",
   "metadata": {},
   "source": [
    "## Captioning with `gr.Interface()`"
   ]
  },
  {
   "cell_type": "markdown",
   "id": "f3bee33c-5e85-4677-b25a-fcee2b36703a",
   "metadata": {},
   "source": [
    "#### gr.Image()\n",
    "- The `type` parameter is the format that the `fn` function expects to receive as its input.  If `type` is `numpy` or `pil`, `gr.Image()` will convert the uploaded file to this format before sending it to the `fn` function.\n",
    "- If `type` is `filepath`, `gr.Image()` will temporarily store the image and provide a string path to that image location as input to the `fn` function."
   ]
  },
  {
   "cell_type": "code",
   "execution_count": 14,
   "id": "d302120a",
   "metadata": {},
   "outputs": [],
   "source": [
    "# Construct paths to the image files\n",
    "dog_path = os.path.join(DATA_PATH, \"christmas_dog.jpeg\")\n",
    "bird_path = os.path.join(DATA_PATH, \"bird_flight.jpeg\")\n",
    "cow_path = os.path.join(DATA_PATH, \"cow.jpeg\")"
   ]
  },
  {
   "cell_type": "code",
   "execution_count": null,
   "id": "8021fac0-9300-44d5-adb1-6ac7111f38f6",
   "metadata": {
    "height": 404
   },
   "outputs": [],
   "source": [
    "import gradio as gr \n",
    "\n",
    "def image_to_base64_str(pil_image):\n",
    "    byte_arr = io.BytesIO()\n",
    "    pil_image.save(byte_arr, format='PNG')\n",
    "    byte_arr = byte_arr.getvalue()\n",
    "    return str(base64.b64encode(byte_arr).decode('utf-8'))\n",
    "\n",
    "def captioner(image):\n",
    "    base64_image = image_to_base64_str(image)\n",
    "    result = get_completion(base64_image)\n",
    "    \n",
    "    # Handle the API response format\n",
    "    if isinstance(result, list):\n",
    "        return result[0]['generated_text']\n",
    "    elif isinstance(result, dict) and 'generated_text' in result:\n",
    "        return result['generated_text']\n",
    "    else:\n",
    "        print(\"Unexpected API response format:\", result)  # For debugging\n",
    "        return \"Could not generate caption\"\n",
    "\n",
    "gr.close_all()\n",
    "demo = gr.Interface(fn=captioner,\n",
    "                    inputs=[gr.Image(label=\"Upload image\", type=\"pil\")],\n",
    "                    outputs=[gr.Textbox(label=\"Caption\")],\n",
    "                    title=\"Image Captioning with BLIP\",\n",
    "                    description=\"Caption any image using the BLIP model\",\n",
    "                    flagging_mode=\"never\",\n",
    "                    examples=[dog_path, bird_path, cow_path])\n",
    "\n",
    "demo.launch(share=True, allowed_paths=[DATA_PATH], server_port=int(os.environ['PORT1']))"
   ]
  },
  {
   "cell_type": "code",
   "execution_count": null,
   "id": "505950a7-c516-4dcc-bb50-a0628e7b57b3",
   "metadata": {
    "height": 30
   },
   "outputs": [],
   "source": [
    "gr.close_all()"
   ]
  },
  {
   "cell_type": "code",
   "execution_count": null,
   "id": "43cf5022",
   "metadata": {
    "height": 30
   },
   "outputs": [],
   "source": []
  }
 ],
 "metadata": {
  "kernelspec": {
   "display_name": "Python 3",
   "language": "python",
   "name": "python3"
  },
  "language_info": {
   "codemirror_mode": {
    "name": "ipython",
    "version": 3
   },
   "file_extension": ".py",
   "mimetype": "text/x-python",
   "name": "python",
   "nbconvert_exporter": "python",
   "pygments_lexer": "ipython3",
   "version": "3.12.6"
  }
 },
 "nbformat": 4,
 "nbformat_minor": 5
}
